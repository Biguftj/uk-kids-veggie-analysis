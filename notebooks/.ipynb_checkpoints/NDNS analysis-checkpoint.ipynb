{
 "cells": [
  {
   "cell_type": "code",
   "execution_count": 1,
   "id": "b2ad70e2-7e7b-4e01-ab5b-75daa5c7f4e4",
   "metadata": {},
   "outputs": [],
   "source": [
    "import pandas as pd\n",
    "import matplotlib.pyplot as plt\n",
    "import seaborn as sns\n",
    "import os"
   ]
  },
  {
   "cell_type": "code",
   "execution_count": 2,
   "id": "61451e8d-71c8-45b7-b9d2-025e90e12e22",
   "metadata": {},
   "outputs": [],
   "source": [
    "# Define path (recommend using relative path for reproducibility)\n",
    "data_path = os.path.join(\"data\", \"ndns-2019-to-2023_data_chapter-4\")\n",
    "\n",
    "# Load NDNS Chapter 4 Table 4_1a\n",
    "df = pd.read_excel(r\"C:\\Users\\polla\\uk-kids-veggie-analysis\\data\\ndns-2019-to-2023_data_chapter-4.ods\", sheet_name=\"4_1a\", skiprows=4)\n",
    "\n",
    "\n",
    "# Use second row as column headers, drop unused rows\n",
    "df.columns = df.iloc[1]                            # Set real headers\n",
    "df = df.iloc[2:].reset_index(drop=True)            # Drop top junk rows\n",
    "df = df.loc[:, df.columns.notna()]                 # Remove unnamed columns\n",
    "df = df.rename(columns={df.columns[0]: \"Food Group\"})\n",
    "\n",
    "# Filter rows related to vegetables, beans, etc.\n",
    "veg_keywords = ['vegetable', 'veg', 'beans', 'peas']\n",
    "veg_df = df[df[\"Food Group\"].str.lower().str.contains('|'.join(veg_keywords), na=False)]\n",
    "\n",
    "# Select mean columns for each age group\n",
    "mean_cols = [col for col in veg_df.columns if \"Mean\" in str(col)]\n",
    "veg_df = veg_df[[\"Food Group\"] + mean_cols].copy()\n",
    "\n",
    "# Convert grams to numeric and calculate estimated portions (1 portion = 80g)\n",
    "for col in mean_cols:\n",
    "    veg_df[col] = pd.to_numeric(veg_df[col], errors='coerce')\n",
    "\n",
    "veg_df = veg_df.round(2)\n"
   ]
  },
  {
   "cell_type": "markdown",
   "id": "9127134a-773e-47c8-8620-acce55820bbb",
   "metadata": {},
   "source": [
    "# 🥦 UK Kids Vegetable Intake: Do Healthy Habits Stick?\n",
    "\n",
    "This project explores whether UK children who eat vegetables continue to do so through adolescence and adulthood. Data is drawn from the National Diet and Nutrition Survey (NDNS), 2019–2023.\n"
   ]
  },
  {
   "cell_type": "code",
   "execution_count": 7,
   "id": "65f6c1ba-82ad-45b0-92d2-0fe580d175c5",
   "metadata": {},
   "outputs": [],
   "source": [
    "# Convert grams to portions for available age groups\n",
    "veg_df[\"Boys 4 to 10 Portions\"] = veg_df[\"Boys 4 to 10 yearsMean\"] / 80\n",
    "veg_df[\"Boys 11 to 18 Portions\"] = veg_df[\"Boys 11 to 18 yearsMean\"] / 80\n",
    "veg_df[\"Men 19 to 64 Portions\"] = veg_df[\"Men 19 to 64 yearsMean\"] / 80\n",
    "\n",
    "# Optional average (teenage boys to adults)\n",
    "veg_df[\"Adolescent + Adult Avg\"] = (veg_df[\"Boys 11 to 18 Portions\"] + veg_df[\"Men 19 to 64 Portions\"]) / 2\n"
   ]
  },
  {
   "cell_type": "code",
   "execution_count": 20,
   "id": "ddacc35c-732e-4632-948d-10151ba12f82",
   "metadata": {},
   "outputs": [
    {
     "data": {
      "image/png": "[encoded data removed]",
      "text/plain": [
       "<Figure size 504x360 with 1 Axes>"
      ]
     },
     "metadata": {},
     "output_type": "display_data"
    }
   ],
   "source": [
    "import os\n",
    "import matplotlib.pyplot as plt\n",
    "\n",
    "# Make sure the folder exists\n",
    "os.makedirs(\"visuals\", exist_ok=True)\n",
    "\n",
    "# Example data\n",
    "age_labels = [\"4–10\", \"11–18\", \"19–64\", \"65+\"]\n",
    "veg_means = [112, 84, 136, 154]  # Replace with actual values if needed\n",
    "\n",
    "# Create and save the chart\n",
    "plt.figure(figsize=(7, 5), facecolor=\"white\")\n",
    "plt.bar(age_labels, veg_means, color=\"orange\")\n",
    "plt.title(\"Mean Vegetable Intake by Age Group\")\n",
    "plt.ylabel(\"Mean Intake (g/day)\")\n",
    "plt.xlabel(\"Age Group\")\n",
    "plt.tight_layout()\n",
    "\n",
    "# Save the image\n",
    "plt.savefig(\"visuals/veg_intake_by_age_group.png\", dpi=300, bbox_inches=\"tight\", facecolor=\"white\")\n",
    "plt.show()\n",
    "\n"
   ]
  },
  {
   "cell_type": "code",
   "execution_count": 21,
   "id": "ff3325d5-08be-4108-b279-f56ec30e0d83",
   "metadata": {},
   "outputs": [
    {
     "ename": "SyntaxError",
     "evalue": "invalid decimal literal (3923969466.py, line 1)",
     "output_type": "error",
     "traceback": [
      "\u001b[1;36m  Input \u001b[1;32mIn [21]\u001b[1;36m\u001b[0m\n\u001b[1;33m    notebooks/01_vegetable_intake_analysis.ipynb\u001b[0m\n\u001b[1;37m                ^\u001b[0m\n\u001b[1;31mSyntaxError\u001b[0m\u001b[1;31m:\u001b[0m invalid decimal literal\n"
     ]
    }
   ],
   "source": []
  }
 ],
 "metadata": {
  "kernelspec": {
   "display_name": "Python 3 (ipykernel)",
   "language": "python",
   "name": "python3"
  },
  "language_info": {
   "codemirror_mode": {
    "name": "ipython",
    "version": 3
   },
   "file_extension": ".py",
   "mimetype": "text/x-python",
   "name": "python",
   "nbconvert_exporter": "python",
   "pygments_lexer": "ipython3",
   "version": "3.9.12"
  }
 },
 "nbformat": 4,
 "nbformat_minor": 5
}
